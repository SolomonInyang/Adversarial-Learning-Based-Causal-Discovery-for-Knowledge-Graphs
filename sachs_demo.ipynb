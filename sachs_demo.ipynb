{
 "cells": [
  {
   "cell_type": "code",
   "id": "initial_id",
   "metadata": {
    "collapsed": true,
    "jupyter": {
     "is_executing": true
    }
   },
   "source": [
    "import networkx as nx\n",
    "from SAM_implementation import SAM\n",
    "from data_loader import load_dataset\n",
    "import matplotlib.pyplot as plt"
   ],
   "outputs": [],
   "execution_count": null
  },
  {
   "metadata": {
    "ExecuteTime": {
     "end_time": "2024-06-04T05:19:13.106472Z",
     "start_time": "2024-06-04T05:19:13.087348Z"
    }
   },
   "cell_type": "code",
   "source": "data, graph = load_dataset(\"sachs\")",
   "id": "1f15bde3dcebe67c",
   "outputs": [],
   "execution_count": 8
  },
  {
   "metadata": {
    "jupyter": {
     "is_executing": true
    },
    "ExecuteTime": {
     "start_time": "2024-06-04T05:19:14.382492Z"
    }
   },
   "cell_type": "code",
   "source": [
    "obj = SAM()\n",
    "\n",
    "# predict based on data\n",
    "output = obj.predict(data)"
   ],
   "id": "7375d1013ef049e3",
   "outputs": [],
   "execution_count": null
  },
  {
   "metadata": {},
   "cell_type": "code",
   "outputs": [],
   "execution_count": null,
   "source": [
    "# View the generated causal graph\n",
    "nx.draw_networkx(output, font_size=8)\n",
    "plt.show()"
   ],
   "id": "d3013667758da6b3"
  }
 ],
 "metadata": {
  "kernelspec": {
   "display_name": "Python 3",
   "language": "python",
   "name": "python3"
  },
  "language_info": {
   "codemirror_mode": {
    "name": "ipython",
    "version": 2
   },
   "file_extension": ".py",
   "mimetype": "text/x-python",
   "name": "python",
   "nbconvert_exporter": "python",
   "pygments_lexer": "ipython2",
   "version": "2.7.6"
  }
 },
 "nbformat": 4,
 "nbformat_minor": 5
}
